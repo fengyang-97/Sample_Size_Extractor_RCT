{
 "cells": [
  {
   "cell_type": "code",
   "execution_count": 1,
   "metadata": {},
   "outputs": [],
   "source": [
    "import os \n",
    "import numpy as np\n",
    "import pandas as pd\n",
    "import pickle\n",
    "import sys\n",
    "from utils import performance"
   ]
  },
  {
   "cell_type": "code",
   "execution_count": 2,
   "metadata": {},
   "outputs": [],
   "source": [
    "%load_ext autoreload\n",
    "%autoreload 2"
   ]
  },
  {
   "cell_type": "markdown",
   "metadata": {},
   "source": [
    "# Exact-match level"
   ]
  },
  {
   "cell_type": "code",
   "execution_count": 11,
   "metadata": {},
   "outputs": [],
   "source": [
    "gold_w_foldid_df = pd.read_csv('data/result/gold_w_foldid.csv', index_col = 0)\n",
    "df_pred_no_pretrain_cv = pd.read_csv('data/result/pred_no_pretraining_400_5fcv.csv', index_col = 0)"
   ]
  },
  {
   "cell_type": "code",
   "execution_count": 12,
   "metadata": {},
   "outputs": [
    {
     "data": {
      "text/html": [
       "<div>\n",
       "<style scoped>\n",
       "    .dataframe tbody tr th:only-of-type {\n",
       "        vertical-align: middle;\n",
       "    }\n",
       "\n",
       "    .dataframe tbody tr th {\n",
       "        vertical-align: top;\n",
       "    }\n",
       "\n",
       "    .dataframe thead th {\n",
       "        text-align: right;\n",
       "    }\n",
       "</style>\n",
       "<table border=\"1\" class=\"dataframe\">\n",
       "  <thead>\n",
       "    <tr style=\"text-align: right;\">\n",
       "      <th></th>\n",
       "      <th>precision</th>\n",
       "      <th>recall</th>\n",
       "      <th>acc1</th>\n",
       "      <th>f1</th>\n",
       "    </tr>\n",
       "  </thead>\n",
       "  <tbody>\n",
       "    <tr>\n",
       "      <th>0</th>\n",
       "      <td>0.557377</td>\n",
       "      <td>0.772727</td>\n",
       "      <td>0.5375</td>\n",
       "      <td>0.647619</td>\n",
       "    </tr>\n",
       "    <tr>\n",
       "      <th>1</th>\n",
       "      <td>0.533333</td>\n",
       "      <td>0.744186</td>\n",
       "      <td>0.5125</td>\n",
       "      <td>0.621359</td>\n",
       "    </tr>\n",
       "    <tr>\n",
       "      <th>2</th>\n",
       "      <td>0.557377</td>\n",
       "      <td>0.723404</td>\n",
       "      <td>0.5000</td>\n",
       "      <td>0.629630</td>\n",
       "    </tr>\n",
       "    <tr>\n",
       "      <th>3</th>\n",
       "      <td>0.641791</td>\n",
       "      <td>0.877551</td>\n",
       "      <td>0.6250</td>\n",
       "      <td>0.741379</td>\n",
       "    </tr>\n",
       "    <tr>\n",
       "      <th>4</th>\n",
       "      <td>0.637681</td>\n",
       "      <td>0.916667</td>\n",
       "      <td>0.6375</td>\n",
       "      <td>0.752137</td>\n",
       "    </tr>\n",
       "  </tbody>\n",
       "</table>\n",
       "</div>"
      ],
      "text/plain": [
       "   precision    recall    acc1        f1\n",
       "0   0.557377  0.772727  0.5375  0.647619\n",
       "1   0.533333  0.744186  0.5125  0.621359\n",
       "2   0.557377  0.723404  0.5000  0.629630\n",
       "3   0.641791  0.877551  0.6250  0.741379\n",
       "4   0.637681  0.916667  0.6375  0.752137"
      ]
     },
     "execution_count": 12,
     "metadata": {},
     "output_type": "execute_result"
    }
   ],
   "source": [
    "# no pretraining, cv\n",
    "nopre_perf_cv = performance.calculate_performance_exact_cv(gold_w_foldid_df, df_pred_no_pretrain_cv)\n",
    "nopre_perf_cv = pd.DataFrame.from_dict(nopre_perf_cv, orient='index', columns = ['precision','recall','acc1','f1'])\n",
    "nopre_perf_cv"
   ]
  },
  {
   "cell_type": "code",
   "execution_count": 13,
   "metadata": {},
   "outputs": [
    {
     "data": {
      "text/html": [
       "<div>\n",
       "<style scoped>\n",
       "    .dataframe tbody tr th:only-of-type {\n",
       "        vertical-align: middle;\n",
       "    }\n",
       "\n",
       "    .dataframe tbody tr th {\n",
       "        vertical-align: top;\n",
       "    }\n",
       "\n",
       "    .dataframe thead tr th {\n",
       "        text-align: left;\n",
       "    }\n",
       "\n",
       "    .dataframe thead tr:last-of-type th {\n",
       "        text-align: right;\n",
       "    }\n",
       "</style>\n",
       "<table border=\"1\" class=\"dataframe\">\n",
       "  <thead>\n",
       "    <tr>\n",
       "      <th></th>\n",
       "      <th colspan=\"3\" halign=\"left\">precision</th>\n",
       "      <th colspan=\"3\" halign=\"left\">recall</th>\n",
       "      <th colspan=\"3\" halign=\"left\">acc1</th>\n",
       "      <th colspan=\"3\" halign=\"left\">f1</th>\n",
       "    </tr>\n",
       "    <tr>\n",
       "      <th></th>\n",
       "      <th>min</th>\n",
       "      <th>max</th>\n",
       "      <th>mean</th>\n",
       "      <th>min</th>\n",
       "      <th>max</th>\n",
       "      <th>mean</th>\n",
       "      <th>min</th>\n",
       "      <th>max</th>\n",
       "      <th>mean</th>\n",
       "      <th>min</th>\n",
       "      <th>max</th>\n",
       "      <th>mean</th>\n",
       "    </tr>\n",
       "    <tr>\n",
       "      <th>groupby</th>\n",
       "      <th></th>\n",
       "      <th></th>\n",
       "      <th></th>\n",
       "      <th></th>\n",
       "      <th></th>\n",
       "      <th></th>\n",
       "      <th></th>\n",
       "      <th></th>\n",
       "      <th></th>\n",
       "      <th></th>\n",
       "      <th></th>\n",
       "      <th></th>\n",
       "    </tr>\n",
       "  </thead>\n",
       "  <tbody>\n",
       "    <tr>\n",
       "      <th>1</th>\n",
       "      <td>0.533333</td>\n",
       "      <td>0.641791</td>\n",
       "      <td>0.585512</td>\n",
       "      <td>0.723404</td>\n",
       "      <td>0.916667</td>\n",
       "      <td>0.806907</td>\n",
       "      <td>0.5</td>\n",
       "      <td>0.6375</td>\n",
       "      <td>0.5625</td>\n",
       "      <td>0.621359</td>\n",
       "      <td>0.752137</td>\n",
       "      <td>0.678425</td>\n",
       "    </tr>\n",
       "  </tbody>\n",
       "</table>\n",
       "</div>"
      ],
      "text/plain": [
       "        precision                        recall                     acc1  \\\n",
       "              min       max      mean       min       max      mean  min   \n",
       "groupby                                                                    \n",
       "1        0.533333  0.641791  0.585512  0.723404  0.916667  0.806907  0.5   \n",
       "\n",
       "                               f1                      \n",
       "            max    mean       min       max      mean  \n",
       "groupby                                                \n",
       "1        0.6375  0.5625  0.621359  0.752137  0.678425  "
      ]
     },
     "execution_count": 13,
     "metadata": {},
     "output_type": "execute_result"
    }
   ],
   "source": [
    "nopre_perf_cv['groupby'] = ['1']*len(nopre_perf_cv)\n",
    "nopre_perf_cv.groupby('groupby').agg(['min', 'max','mean'])"
   ]
  },
  {
   "cell_type": "code",
   "execution_count": 18,
   "metadata": {},
   "outputs": [
    {
     "data": {
      "text/plain": [
       "[0.874251497005988, 0.948051948051948, 0.855, 0.9096573208722741]"
      ]
     },
     "execution_count": 18,
     "metadata": {},
     "output_type": "execute_result"
    }
   ],
   "source": [
    "# no pretraining, train with all data and evaluate with all data\n",
    "df_pred_no_pretrain = pd.read_csv('data/result/pred_no_pretraining_400_nocv.csv', index_col = 0)\n",
    "nopre_perf = performance.calculate_performance_exact(gold_w_foldid_df, df_pred_no_pretrain)\n",
    "nopre_perf"
   ]
  },
  {
   "cell_type": "code",
   "execution_count": 19,
   "metadata": {},
   "outputs": [
    {
     "data": {
      "text/html": [
       "<div>\n",
       "<style scoped>\n",
       "    .dataframe tbody tr th:only-of-type {\n",
       "        vertical-align: middle;\n",
       "    }\n",
       "\n",
       "    .dataframe tbody tr th {\n",
       "        vertical-align: top;\n",
       "    }\n",
       "\n",
       "    .dataframe thead tr th {\n",
       "        text-align: left;\n",
       "    }\n",
       "\n",
       "    .dataframe thead tr:last-of-type th {\n",
       "        text-align: right;\n",
       "    }\n",
       "</style>\n",
       "<table border=\"1\" class=\"dataframe\">\n",
       "  <thead>\n",
       "    <tr>\n",
       "      <th></th>\n",
       "      <th colspan=\"3\" halign=\"left\">precision</th>\n",
       "      <th colspan=\"3\" halign=\"left\">recall</th>\n",
       "      <th colspan=\"3\" halign=\"left\">acc1</th>\n",
       "      <th colspan=\"3\" halign=\"left\">f1</th>\n",
       "    </tr>\n",
       "    <tr>\n",
       "      <th></th>\n",
       "      <th>min</th>\n",
       "      <th>max</th>\n",
       "      <th>mean</th>\n",
       "      <th>min</th>\n",
       "      <th>max</th>\n",
       "      <th>mean</th>\n",
       "      <th>min</th>\n",
       "      <th>max</th>\n",
       "      <th>mean</th>\n",
       "      <th>min</th>\n",
       "      <th>max</th>\n",
       "      <th>mean</th>\n",
       "    </tr>\n",
       "    <tr>\n",
       "      <th>groupby</th>\n",
       "      <th></th>\n",
       "      <th></th>\n",
       "      <th></th>\n",
       "      <th></th>\n",
       "      <th></th>\n",
       "      <th></th>\n",
       "      <th></th>\n",
       "      <th></th>\n",
       "      <th></th>\n",
       "      <th></th>\n",
       "      <th></th>\n",
       "      <th></th>\n",
       "    </tr>\n",
       "  </thead>\n",
       "  <tbody>\n",
       "    <tr>\n",
       "      <th>1</th>\n",
       "      <td>0.571429</td>\n",
       "      <td>0.694915</td>\n",
       "      <td>0.61776</td>\n",
       "      <td>0.73913</td>\n",
       "      <td>0.788462</td>\n",
       "      <td>0.763917</td>\n",
       "      <td>0.525</td>\n",
       "      <td>0.6375</td>\n",
       "      <td>0.57</td>\n",
       "      <td>0.647619</td>\n",
       "      <td>0.738739</td>\n",
       "      <td>0.682131</td>\n",
       "    </tr>\n",
       "  </tbody>\n",
       "</table>\n",
       "</div>"
      ],
      "text/plain": [
       "        precision                      recall                       acc1  \\\n",
       "              min       max     mean      min       max      mean    min   \n",
       "groupby                                                                    \n",
       "1        0.571429  0.694915  0.61776  0.73913  0.788462  0.763917  0.525   \n",
       "\n",
       "                             f1                      \n",
       "            max  mean       min       max      mean  \n",
       "groupby                                              \n",
       "1        0.6375  0.57  0.647619  0.738739  0.682131  "
      ]
     },
     "execution_count": 19,
     "metadata": {},
     "output_type": "execute_result"
    }
   ],
   "source": [
    "# with pretraining, cv\n",
    "df_pred_pretrain_cv = pd.read_csv('data/result/pred_pretraining_400_5fcv.csv', index_col = 0)\n",
    "pre_perf_cv = performance.calculate_performance_exact_cv(gold_w_foldid_df, df_pred_pretrain_cv)\n",
    "pre_perf_cv = pd.DataFrame.from_dict(pre_perf_cv, orient='index', columns = ['precision','recall','acc1','f1'])\n",
    "pre_perf_cv['groupby'] = ['1']*len(pre_perf_cv)\n",
    "pre_perf_cv.groupby('groupby').agg(['min', 'max','mean'])"
   ]
  },
  {
   "cell_type": "code",
   "execution_count": 21,
   "metadata": {},
   "outputs": [
    {
     "name": "stderr",
     "output_type": "stream",
     "text": [
      "/Users/fengyanglin/Documents/DBMI/PICO_Litcovid/Sample_Size_Extractor/utils/performance.py:45: SettingWithCopyWarning: \n",
      "A value is trying to be set on a copy of a slice from a DataFrame.\n",
      "Try using .loc[row_indexer,col_indexer] = value instead\n",
      "\n",
      "See the caveats in the documentation: https://pandas.pydata.org/pandas-docs/stable/user_guide/indexing.html#returning-a-view-versus-a-copy\n",
      "  df_test1['pmid'] = df_test1['pmid'].apply(lambda x: int(x))\n"
     ]
    },
    {
     "data": {
      "text/plain": [
       "[0.8660714285714286, 0.9509803921568627, 0.85, 0.9065420560747663]"
      ]
     },
     "execution_count": 21,
     "metadata": {},
     "output_type": "execute_result"
    }
   ],
   "source": [
    "# with pretraining, train with all data and evaluate with all data\n",
    "df_pred_pretrain = pd.read_csv('data/result/pred_pretraining_400_nocv.csv', index_col = 0)\n",
    "pre_perf = performance.calculate_performance_exact(gold_w_foldid_df, df_pred_pretrain)\n",
    "pre_perf"
   ]
  },
  {
   "cell_type": "markdown",
   "metadata": {},
   "source": [
    "# Loose-match Level"
   ]
  },
  {
   "cell_type": "code",
   "execution_count": 31,
   "metadata": {},
   "outputs": [],
   "source": [
    "with open('data/tt_poss_dict_400.pickle', 'rb') as handle:\n",
    "    tt_poss_dict = pickle.load(handle)"
   ]
  },
  {
   "cell_type": "code",
   "execution_count": 36,
   "metadata": {},
   "outputs": [
    {
     "data": {
      "text/html": [
       "<div>\n",
       "<style scoped>\n",
       "    .dataframe tbody tr th:only-of-type {\n",
       "        vertical-align: middle;\n",
       "    }\n",
       "\n",
       "    .dataframe tbody tr th {\n",
       "        vertical-align: top;\n",
       "    }\n",
       "\n",
       "    .dataframe thead th {\n",
       "        text-align: right;\n",
       "    }\n",
       "</style>\n",
       "<table border=\"1\" class=\"dataframe\">\n",
       "  <thead>\n",
       "    <tr style=\"text-align: right;\">\n",
       "      <th></th>\n",
       "      <th>precision</th>\n",
       "      <th>recall</th>\n",
       "      <th>acc1</th>\n",
       "      <th>f1</th>\n",
       "    </tr>\n",
       "  </thead>\n",
       "  <tbody>\n",
       "    <tr>\n",
       "      <th>0</th>\n",
       "      <td>0.700000</td>\n",
       "      <td>0.807692</td>\n",
       "      <td>0.6375</td>\n",
       "      <td>0.750000</td>\n",
       "    </tr>\n",
       "    <tr>\n",
       "      <th>1</th>\n",
       "      <td>0.666667</td>\n",
       "      <td>0.784314</td>\n",
       "      <td>0.6125</td>\n",
       "      <td>0.720721</td>\n",
       "    </tr>\n",
       "    <tr>\n",
       "      <th>2</th>\n",
       "      <td>0.770492</td>\n",
       "      <td>0.783333</td>\n",
       "      <td>0.6625</td>\n",
       "      <td>0.776860</td>\n",
       "    </tr>\n",
       "    <tr>\n",
       "      <th>3</th>\n",
       "      <td>0.742424</td>\n",
       "      <td>0.890909</td>\n",
       "      <td>0.7000</td>\n",
       "      <td>0.809917</td>\n",
       "    </tr>\n",
       "    <tr>\n",
       "      <th>4</th>\n",
       "      <td>0.681159</td>\n",
       "      <td>0.921569</td>\n",
       "      <td>0.6750</td>\n",
       "      <td>0.783333</td>\n",
       "    </tr>\n",
       "  </tbody>\n",
       "</table>\n",
       "</div>"
      ],
      "text/plain": [
       "   precision    recall    acc1        f1\n",
       "0   0.700000  0.807692  0.6375  0.750000\n",
       "1   0.666667  0.784314  0.6125  0.720721\n",
       "2   0.770492  0.783333  0.6625  0.776860\n",
       "3   0.742424  0.890909  0.7000  0.809917\n",
       "4   0.681159  0.921569  0.6750  0.783333"
      ]
     },
     "execution_count": 36,
     "metadata": {},
     "output_type": "execute_result"
    }
   ],
   "source": [
    "# no pretraining, cv\n",
    "no_pre_perf_loose_cv = performance.calculate_performance_loose_cv(gold_w_foldid_df, df_pred_no_pretrain_cv, tt_poss_dict)\n",
    "no_pre_perf_loose_cv = pd.DataFrame.from_dict(no_pre_perf_loose_cv, orient='index', columns = ['precision','recall','acc1','f1'])\n",
    "no_pre_perf_loose_cv"
   ]
  },
  {
   "cell_type": "code",
   "execution_count": 37,
   "metadata": {},
   "outputs": [
    {
     "data": {
      "text/html": [
       "<div>\n",
       "<style scoped>\n",
       "    .dataframe tbody tr th:only-of-type {\n",
       "        vertical-align: middle;\n",
       "    }\n",
       "\n",
       "    .dataframe tbody tr th {\n",
       "        vertical-align: top;\n",
       "    }\n",
       "\n",
       "    .dataframe thead tr th {\n",
       "        text-align: left;\n",
       "    }\n",
       "\n",
       "    .dataframe thead tr:last-of-type th {\n",
       "        text-align: right;\n",
       "    }\n",
       "</style>\n",
       "<table border=\"1\" class=\"dataframe\">\n",
       "  <thead>\n",
       "    <tr>\n",
       "      <th></th>\n",
       "      <th colspan=\"3\" halign=\"left\">precision</th>\n",
       "      <th colspan=\"3\" halign=\"left\">recall</th>\n",
       "      <th colspan=\"3\" halign=\"left\">acc1</th>\n",
       "      <th colspan=\"3\" halign=\"left\">f1</th>\n",
       "    </tr>\n",
       "    <tr>\n",
       "      <th></th>\n",
       "      <th>min</th>\n",
       "      <th>max</th>\n",
       "      <th>mean</th>\n",
       "      <th>min</th>\n",
       "      <th>max</th>\n",
       "      <th>mean</th>\n",
       "      <th>min</th>\n",
       "      <th>max</th>\n",
       "      <th>mean</th>\n",
       "      <th>min</th>\n",
       "      <th>max</th>\n",
       "      <th>mean</th>\n",
       "    </tr>\n",
       "    <tr>\n",
       "      <th>groupby</th>\n",
       "      <th></th>\n",
       "      <th></th>\n",
       "      <th></th>\n",
       "      <th></th>\n",
       "      <th></th>\n",
       "      <th></th>\n",
       "      <th></th>\n",
       "      <th></th>\n",
       "      <th></th>\n",
       "      <th></th>\n",
       "      <th></th>\n",
       "      <th></th>\n",
       "    </tr>\n",
       "  </thead>\n",
       "  <tbody>\n",
       "    <tr>\n",
       "      <th>1</th>\n",
       "      <td>0.666667</td>\n",
       "      <td>0.770492</td>\n",
       "      <td>0.712148</td>\n",
       "      <td>0.783333</td>\n",
       "      <td>0.921569</td>\n",
       "      <td>0.837563</td>\n",
       "      <td>0.6125</td>\n",
       "      <td>0.7</td>\n",
       "      <td>0.6575</td>\n",
       "      <td>0.720721</td>\n",
       "      <td>0.809917</td>\n",
       "      <td>0.768166</td>\n",
       "    </tr>\n",
       "  </tbody>\n",
       "</table>\n",
       "</div>"
      ],
      "text/plain": [
       "        precision                        recall                        acc1  \\\n",
       "              min       max      mean       min       max      mean     min   \n",
       "groupby                                                                       \n",
       "1        0.666667  0.770492  0.712148  0.783333  0.921569  0.837563  0.6125   \n",
       "\n",
       "                            f1                      \n",
       "         max    mean       min       max      mean  \n",
       "groupby                                             \n",
       "1        0.7  0.6575  0.720721  0.809917  0.768166  "
      ]
     },
     "execution_count": 37,
     "metadata": {},
     "output_type": "execute_result"
    }
   ],
   "source": [
    "no_pre_perf_loose_cv['groupby'] = ['1']*len(no_pre_perf_loose_cv)\n",
    "no_pre_perf_loose_cv.groupby('groupby').agg(['min', 'max','mean'])"
   ]
  },
  {
   "cell_type": "code",
   "execution_count": 39,
   "metadata": {},
   "outputs": [
    {
     "name": "stdout",
     "output_type": "stream",
     "text": [
      "[0.9036144578313253, 0.9493670886075949, 0.875, 0.9259259259259259]\n"
     ]
    }
   ],
   "source": [
    "# no pretraining, train with all data and evaluate with all data\n",
    "no_pre_perf_loose = performance.calculate_performance_loose(gold_w_foldid_df, df_pred_no_pretrain, tt_poss_dict)\n",
    "print(no_pre_perf_loose)"
   ]
  },
  {
   "cell_type": "code",
   "execution_count": 40,
   "metadata": {},
   "outputs": [
    {
     "data": {
      "text/html": [
       "<div>\n",
       "<style scoped>\n",
       "    .dataframe tbody tr th:only-of-type {\n",
       "        vertical-align: middle;\n",
       "    }\n",
       "\n",
       "    .dataframe tbody tr th {\n",
       "        vertical-align: top;\n",
       "    }\n",
       "\n",
       "    .dataframe thead tr th {\n",
       "        text-align: left;\n",
       "    }\n",
       "\n",
       "    .dataframe thead tr:last-of-type th {\n",
       "        text-align: right;\n",
       "    }\n",
       "</style>\n",
       "<table border=\"1\" class=\"dataframe\">\n",
       "  <thead>\n",
       "    <tr>\n",
       "      <th></th>\n",
       "      <th colspan=\"3\" halign=\"left\">precision</th>\n",
       "      <th colspan=\"3\" halign=\"left\">recall</th>\n",
       "      <th colspan=\"3\" halign=\"left\">acc1</th>\n",
       "      <th colspan=\"3\" halign=\"left\">f1</th>\n",
       "    </tr>\n",
       "    <tr>\n",
       "      <th></th>\n",
       "      <th>min</th>\n",
       "      <th>max</th>\n",
       "      <th>mean</th>\n",
       "      <th>min</th>\n",
       "      <th>max</th>\n",
       "      <th>mean</th>\n",
       "      <th>min</th>\n",
       "      <th>max</th>\n",
       "      <th>mean</th>\n",
       "      <th>min</th>\n",
       "      <th>max</th>\n",
       "      <th>mean</th>\n",
       "    </tr>\n",
       "    <tr>\n",
       "      <th>groupby</th>\n",
       "      <th></th>\n",
       "      <th></th>\n",
       "      <th></th>\n",
       "      <th></th>\n",
       "      <th></th>\n",
       "      <th></th>\n",
       "      <th></th>\n",
       "      <th></th>\n",
       "      <th></th>\n",
       "      <th></th>\n",
       "      <th></th>\n",
       "      <th></th>\n",
       "    </tr>\n",
       "  </thead>\n",
       "  <tbody>\n",
       "    <tr>\n",
       "      <th>1</th>\n",
       "      <td>0.694915</td>\n",
       "      <td>0.810345</td>\n",
       "      <td>0.739244</td>\n",
       "      <td>0.773585</td>\n",
       "      <td>0.827586</td>\n",
       "      <td>0.794222</td>\n",
       "      <td>0.625</td>\n",
       "      <td>0.7125</td>\n",
       "      <td>0.66</td>\n",
       "      <td>0.732143</td>\n",
       "      <td>0.810345</td>\n",
       "      <td>0.765451</td>\n",
       "    </tr>\n",
       "  </tbody>\n",
       "</table>\n",
       "</div>"
      ],
      "text/plain": [
       "        precision                        recall                       acc1  \\\n",
       "              min       max      mean       min       max      mean    min   \n",
       "groupby                                                                      \n",
       "1        0.694915  0.810345  0.739244  0.773585  0.827586  0.794222  0.625   \n",
       "\n",
       "                             f1                      \n",
       "            max  mean       min       max      mean  \n",
       "groupby                                              \n",
       "1        0.7125  0.66  0.732143  0.810345  0.765451  "
      ]
     },
     "execution_count": 40,
     "metadata": {},
     "output_type": "execute_result"
    }
   ],
   "source": [
    "# pretraining, cv\n",
    "pre_perf_loose_cv = performance.calculate_performance_loose_cv(gold_w_foldid_df, df_pred_pretrain_cv, tt_poss_dict)\n",
    "pre_perf_loose_cv = pd.DataFrame.from_dict(pre_perf_loose_cv, orient='index', columns = ['precision','recall','acc1','f1'])\n",
    "pre_perf_loose_cv['groupby'] = ['1']*len(pre_perf_loose_cv)\n",
    "pre_perf_loose_cv.groupby('groupby').agg(['min', 'max','mean'])"
   ]
  },
  {
   "cell_type": "code",
   "execution_count": 42,
   "metadata": {},
   "outputs": [
    {
     "name": "stdout",
     "output_type": "stream",
     "text": [
      "[0.8918918918918919, 0.9519230769230769, 0.865, 0.9209302325581394]\n"
     ]
    }
   ],
   "source": [
    "# pretraining, train with all data and evaluate with all data\n",
    "pre_perf_loose = performance.calculate_performance_loose(gold_w_foldid_df, df_pred_pretrain, tt_poss_dict)\n",
    "print(pre_perf_loose)"
   ]
  }
 ],
 "metadata": {
  "kernelspec": {
   "display_name": "Python 3",
   "language": "python",
   "name": "python3"
  },
  "language_info": {
   "codemirror_mode": {
    "name": "ipython",
    "version": 3
   },
   "file_extension": ".py",
   "mimetype": "text/x-python",
   "name": "python",
   "nbconvert_exporter": "python",
   "pygments_lexer": "ipython3",
   "version": "3.7.4"
  }
 },
 "nbformat": 4,
 "nbformat_minor": 4
}
